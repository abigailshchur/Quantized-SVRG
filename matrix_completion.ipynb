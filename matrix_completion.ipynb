{
 "cells": [
  {
   "cell_type": "code",
   "execution_count": 1,
   "metadata": {
    "collapsed": true
   },
   "outputs": [],
   "source": [
    "import numpy as np"
   ]
  },
  {
   "cell_type": "code",
   "execution_count": 98,
   "metadata": {},
   "outputs": [
    {
     "name": "stdout",
     "output_type": "stream",
     "text": [
      "2.02488730819e-14\n"
     ]
    }
   ],
   "source": [
    "n=50\n",
    "d=20\n",
    "M = np.random.rand(n,d)\n",
    "l,v,r = np.linalg.svd(M)\n",
    "v_full = np.append(np.diag(v), np.zeros((n-d,d)), axis=0)\n",
    "RM = np.dot(np.dot(l,v_full), r)\n",
    "print(np.linalg.norm(M - RM, ord='fro'))"
   ]
  },
  {
   "cell_type": "code",
   "execution_count": 99,
   "metadata": {},
   "outputs": [
    {
     "name": "stdout",
     "output_type": "stream",
     "text": [
      "8.10107933041\n"
     ]
    }
   ],
   "source": [
    "# rank 2 approx\n",
    "rank = 2\n",
    "v2 = [v[i] if i < rank else 0 for i in range(len(v))]\n",
    "v2_full = np.append(np.diag(v2), np.zeros((n-d,d)), axis=0)\n",
    "RM2 = np.dot(np.dot(l,v2_full), r)\n",
    "print(np.linalg.norm(M - RM2, ord='fro'))"
   ]
  },
  {
   "cell_type": "code",
   "execution_count": 100,
   "metadata": {},
   "outputs": [
    {
     "name": "stdout",
     "output_type": "stream",
     "text": [
      "7.54790916804\n"
     ]
    }
   ],
   "source": [
    "# rank 3 approx\n",
    "rank = 3\n",
    "v3 = [v[i] if i < rank else 0 for i in range(len(v))]\n",
    "v3_full = np.append(np.diag(v3), np.zeros((n-d,d)), axis=0)\n",
    "RM3 = np.dot(np.dot(l,v3_full), r)\n",
    "print(np.linalg.norm(M - RM3, ord='fro'))"
   ]
  },
  {
   "cell_type": "code",
   "execution_count": 101,
   "metadata": {},
   "outputs": [],
   "source": [
    "# set half of the values to 0\n",
    "mask = np.random.randint(0,2,size=M.shape).astype(np.bool)\n",
    "z = np.zeros((n,d))\n",
    "RM3_zero = RM3.copy()\n",
    "RM3_zero[mask] = z[mask]"
   ]
  },
  {
   "cell_type": "code",
   "execution_count": 102,
   "metadata": {
    "collapsed": true
   },
   "outputs": [],
   "source": [
    "def matrix_factorization(R, P, Q, K, steps=5000, alpha=0.00001, beta=0.02):\n",
    "    Q = Q.T\n",
    "    for step in xrange(steps):\n",
    "        for i in xrange(len(R)):\n",
    "            for j in xrange(len(R[i])):\n",
    "                if R[i][j] > 0:\n",
    "                    eij = R[i][j] - np.dot(P[i,:],Q[:,j])\n",
    "                    for k in xrange(K):\n",
    "                        P[i][k] = P[i][k] + alpha * (2 * eij * Q[k][j] - beta * P[i][k])\n",
    "                        Q[k][j] = Q[k][j] + alpha * (2 * eij * P[i][k] - beta * Q[k][j])\n",
    "        eR =  np.dot(P,Q)\n",
    "        #e = 0\n",
    "        #for i in xrange(len(R)):\n",
    "        #    for j in xrange(len(R[i])):\n",
    "        #        if R[i][j] > 0:\n",
    "        #            e = e + pow(R[i][j] - np.dot(P[i,:],Q[:,j]), 2)\n",
    "        #            for k in xrange(K):\n",
    "        #                e = e + (beta/2) * ( pow(P[i][k],2) + pow(Q[k][j],2) )\n",
    "        #if (steps > 4900):\n",
    "        #    print(e)\n",
    "        #if e < 0.001:\n",
    "        #    print(\"converged\")\n",
    "        #    break\n",
    "    return P, Q.T"
   ]
  },
  {
   "cell_type": "code",
   "execution_count": 107,
   "metadata": {},
   "outputs": [],
   "source": [
    "K=3\n",
    "P = np.random.rand(n,K)\n",
    "Q = np.random.rand(d,K)\n",
    "nP, nQ = matrix_factorization(RM3_zero, P, Q, K, steps=5000)"
   ]
  },
  {
   "cell_type": "code",
   "execution_count": 108,
   "metadata": {},
   "outputs": [
    {
     "name": "stdout",
     "output_type": "stream",
     "text": [
      "4.37069775267\n",
      "6.57889638462\n"
     ]
    }
   ],
   "source": [
    "# for 5000 iterations\n",
    "RM3_est = np.dot(nP,nQ.T)\n",
    "RM3_est_z = RM3_est.copy()\n",
    "RM3_est_z[mask] = z[mask]\n",
    "print(np.linalg.norm(RM3_est_z - RM3_zero, ord='fro'))\n",
    "print(np.linalg.norm(RM3_est - RM3, ord='fro'))"
   ]
  },
  {
   "cell_type": "code",
   "execution_count": 106,
   "metadata": {},
   "outputs": [
    {
     "name": "stdout",
     "output_type": "stream",
     "text": [
      "2.78555633441\n",
      "4.52256689218\n"
     ]
    }
   ],
   "source": [
    "# for 50000 iterations\n",
    "RM3_est = np.dot(nP,nQ.T)\n",
    "RM3_est_z = RM3_est.copy()\n",
    "RM3_est_z[mask] = z[mask]\n",
    "print(np.linalg.norm(RM3_est_z - RM3_zero, ord='fro'))\n",
    "print(np.linalg.norm(RM3_est - RM3, ord='fro'))"
   ]
  }
 ],
 "metadata": {
  "kernelspec": {
   "display_name": "Python 2",
   "language": "python",
   "name": "python2"
  },
  "language_info": {
   "codemirror_mode": {
    "name": "ipython",
    "version": 2
   },
   "file_extension": ".py",
   "mimetype": "text/x-python",
   "name": "python",
   "nbconvert_exporter": "python",
   "pygments_lexer": "ipython2",
   "version": "2.7.13"
  }
 },
 "nbformat": 4,
 "nbformat_minor": 2
}
