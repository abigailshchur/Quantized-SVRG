{
 "cells": [
  {
   "cell_type": "markdown",
   "metadata": {},
   "source": [
    "### Imports:"
   ]
  },
  {
   "cell_type": "code",
   "execution_count": 25,
   "metadata": {
    "collapsed": true
   },
   "outputs": [],
   "source": [
    "import numpy as np\n",
    "import random"
   ]
  },
  {
   "cell_type": "markdown",
   "metadata": {},
   "source": [
    "### Generating Data:\n",
    "* Define $ r \\sim U(-50,50) $, $r_n \\sim N(0,1)$, ground truth weight vector $w$ \n",
    "* Data: $x = r + r_n$\n",
    "* Labels: $y = w' \\cdot x$"
   ]
  },
  {
   "cell_type": "code",
   "execution_count": 15,
   "metadata": {},
   "outputs": [],
   "source": [
    "\"\"\"\n",
    "Inputs:\n",
    "    w - the ground truth vector\n",
    "    n - the number of data points to generate\n",
    "Output:\n",
    "    x - n x d matrix of data\n",
    "    y - n x 1 array of labels for data\n",
    "\"\"\"\n",
    "def generate_data(w, n):\n",
    "    d = len(w) # dimension of data\n",
    "    rn = np.random.randn(n,d) # n x d matrix samples from N(0,1)\n",
    "    r = np.random.rand(n,d)*100.0 - 50.0 # n x d matrix samples from U(-50,50)\n",
    "    x = rn + r\n",
    "    y = np.dot(w,x.T)\n",
    "    return x,y"
   ]
  },
  {
   "cell_type": "code",
   "execution_count": 62,
   "metadata": {},
   "outputs": [],
   "source": [
    "w = [1.0, 2.0, 3.0, 4.0]\n",
    "n = 10000\n",
    "x,y = generate_data(w,n)"
   ]
  },
  {
   "cell_type": "code",
   "execution_count": 63,
   "metadata": {
    "collapsed": true
   },
   "outputs": [],
   "source": [
    "def gradient(wi, xi, yi):\n",
    "    return 2.0*xi*(np.dot(wi, xi) - yi)"
   ]
  },
  {
   "cell_type": "markdown",
   "metadata": {},
   "source": [
    "### Implementing Regular SGD:"
   ]
  },
  {
   "cell_type": "code",
   "execution_count": 64,
   "metadata": {
    "collapsed": true
   },
   "outputs": [],
   "source": [
    "def sgd(alpha, x, y, iters):\n",
    "    n,d = np.shape(x)\n",
    "    wi = np.random.rand(d)\n",
    "    for i in range(iters):\n",
    "        idx = random.randint(0, n-1)\n",
    "        xi = x[idx, :]\n",
    "        yi = y[idx]\n",
    "        grad = gradient(wi,xi,yi)\n",
    "        wi = wi - alpha*(grad)\n",
    "    return wi"
   ]
  },
  {
   "cell_type": "code",
   "execution_count": 72,
   "metadata": {},
   "outputs": [
    {
     "name": "stdout",
     "output_type": "stream",
     "text": [
      "[ 0.99999998  1.99999759  2.99999862  3.99999772]\n"
     ]
    }
   ],
   "source": [
    "weights_sgd = sgd(0.0001, x, y, 100)\n",
    "print(weights_sgd)"
   ]
  },
  {
   "cell_type": "markdown",
   "metadata": {},
   "source": [
    "### Implementing Regular SVRG:"
   ]
  },
  {
   "cell_type": "code",
   "execution_count": 105,
   "metadata": {},
   "outputs": [],
   "source": [
    "def svrg(alpha, x, y):\n",
    "    n,d = np.shape(x)\n",
    "    w_0_tilde = np.random.rand(d) * 10 # init param\n",
    "    m = 2*n # update frequency\n",
    "    converged = False\n",
    "    prev_obj = 0\n",
    "    while not converged:\n",
    "        w_tilde = w_0_tilde\n",
    "        mu_tilde = np.zeros(d)\n",
    "        # full gradient calculation\n",
    "        for i in range(n):\n",
    "            xi = x[i, :]\n",
    "            mu_tilde += gradient(w_tilde, xi, y[i])\n",
    "        mu_tilde = mu_tilde/(1.0*n)\n",
    "        w_0 = w_tilde\n",
    "        for t in range(0,m):\n",
    "            i = random.randint(0, n-1)\n",
    "            xi = x[i, :]\n",
    "            yi = y[i]\n",
    "            grad_1 = gradient(w_0,xi,yi)\n",
    "            grad_2 = gradient(w_tilde,xi,yi)\n",
    "            w_0 = w_0 - alpha*(grad_1 - grad_2 + mu_tilde)\n",
    "            #stuff\n",
    "        w_0_tilde = w_0\n",
    "        obj = np.dot(w_0_tilde.T,x.T) - y\n",
    "        obj = sum(obj * obj) / (1.0*n)\n",
    "        if abs(prev_obj - obj) < 0.0001: # check convergence\n",
    "             converged = True\n",
    "        prev_obj = obj\n",
    "    return w_0_tilde"
   ]
  },
  {
   "cell_type": "code",
   "execution_count": 106,
   "metadata": {},
   "outputs": [
    {
     "name": "stdout",
     "output_type": "stream",
     "text": [
      "[ 0.99995193  2.00011606  2.99995524  4.00000076]\n"
     ]
    }
   ],
   "source": [
    "weights_svrg = svrg(0.0001, x, y)\n",
    "print(weights_svrg)"
   ]
  },
  {
   "cell_type": "code",
   "execution_count": null,
   "metadata": {
    "collapsed": true
   },
   "outputs": [],
   "source": []
  }
 ],
 "metadata": {
  "kernelspec": {
   "display_name": "Python 2",
   "language": "python",
   "name": "python2"
  },
  "language_info": {
   "codemirror_mode": {
    "name": "ipython",
    "version": 2
   },
   "file_extension": ".py",
   "mimetype": "text/x-python",
   "name": "python",
   "nbconvert_exporter": "python",
   "pygments_lexer": "ipython2",
   "version": "2.7.13"
  }
 },
 "nbformat": 4,
 "nbformat_minor": 2
}
