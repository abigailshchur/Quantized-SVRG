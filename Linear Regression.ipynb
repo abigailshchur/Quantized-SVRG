{
 "cells": [
  {
   "cell_type": "markdown",
   "metadata": {},
   "source": [
    "### Imports:"
   ]
  },
  {
   "cell_type": "code",
   "execution_count": 1,
   "metadata": {},
   "outputs": [],
   "source": [
    "import numpy as np\n",
    "import random\n",
    "import data_generation\n",
    "import util"
   ]
  },
  {
   "cell_type": "markdown",
   "metadata": {},
   "source": [
    "### Generating Data:\n",
    "* Define $ r \\sim U(-50,50) $, $r_n \\sim N(0,1)$, ground truth weight vector $w$ \n",
    "* Data: $x = r + r_n$\n",
    "* Labels: $y = w' \\cdot x$"
   ]
  },
  {
   "cell_type": "code",
   "execution_count": 9,
   "metadata": {},
   "outputs": [],
   "source": [
    "w = np.random.uniform(low=-1.0, high=127/128.0, size=(20,))\n",
    "n = 10000\n",
    "x,y = data_generation.generate_data_linear_regression(w,n)"
   ]
  },
  {
   "cell_type": "markdown",
   "metadata": {},
   "source": [
    "### Implementing Regular SGD:"
   ]
  },
  {
   "cell_type": "code",
   "execution_count": 10,
   "metadata": {},
   "outputs": [
    {
     "name": "stdout",
     "output_type": "stream",
     "text": [
      "[ 0.23896677 -0.6400702   0.07621329 -0.47514402 -0.24265557  0.22964622\n",
      " -0.9654269  -0.66116634 -0.31690737  0.78708942 -0.88456695 -0.83268095\n",
      " -0.14295422  0.69359771 -0.35513102 -0.27789399  0.14106016 -0.53138139\n",
      " -0.37396373 -0.0836735 ]\n"
     ]
    }
   ],
   "source": [
    "weights_sgd = util.fp_sgd_lr(0.00001, x, y, 100000)\n",
    "print(weights_sgd)"
   ]
  },
  {
   "cell_type": "code",
   "execution_count": 11,
   "metadata": {},
   "outputs": [
    {
     "data": {
      "text/plain": [
       "array([ 0.2362114 , -0.64590635,  0.0834764 , -0.47816773, -0.24270745,\n",
       "        0.22605152, -0.96881721, -0.66495495, -0.32190291,  0.78498008,\n",
       "       -0.8869241 , -0.8328438 , -0.14598873,  0.68919108, -0.35861111,\n",
       "       -0.28123784,  0.1396671 , -0.53104342, -0.37331872, -0.08456253])"
      ]
     },
     "execution_count": 11,
     "metadata": {},
     "output_type": "execute_result"
    }
   ],
   "source": [
    "w"
   ]
  },
  {
   "cell_type": "markdown",
   "metadata": {},
   "source": [
    "### Implementing Regular SVRG:"
   ]
  },
  {
   "cell_type": "code",
   "execution_count": 12,
   "metadata": {},
   "outputs": [
    {
     "name": "stdout",
     "output_type": "stream",
     "text": [
      "[ 0.23677163 -0.64464787  0.08141439 -0.47836065 -0.24245784  0.22483001\n",
      " -0.96840655 -0.66442877 -0.32226711  0.78420851 -0.88549961 -0.83240097\n",
      " -0.14469175  0.69079881 -0.36002751 -0.27841848  0.14027563 -0.532648\n",
      " -0.37163196 -0.08508866]\n"
     ]
    }
   ],
   "source": [
    "weights_svrg = util.fp_svrg_lr(0.00001, x, y, 10)\n",
    "print(weights_svrg)"
   ]
  },
  {
   "cell_type": "code",
   "execution_count": 367,
   "metadata": {
    "collapsed": true
   },
   "outputs": [],
   "source": [
    "delta = 1/128.0"
   ]
  },
  {
   "cell_type": "code",
   "execution_count": 379,
   "metadata": {},
   "outputs": [
    {
     "name": "stdout",
     "output_type": "stream",
     "text": [
      "-128\n",
      "127\n",
      "-1.0\n",
      "0.9921875\n"
     ]
    }
   ],
   "source": [
    "c1 = np.array( np.random.rand(5000)*500, dtype=np.int8).min()\n",
    "c2 = np.array( np.random.rand(5000)*500, dtype=np.int8).max()\n",
    "print(c1)\n",
    "print(c2)\n",
    "print(c1*delta)\n",
    "print(c2*delta)"
   ]
  },
  {
   "cell_type": "code",
   "execution_count": 8,
   "metadata": {},
   "outputs": [],
   "source": []
  },
  {
   "cell_type": "code",
   "execution_count": 11,
   "metadata": {},
   "outputs": [
    {
     "data": {
      "text/plain": [
       "array([ -49, -118,   40,   89,   28], dtype=int8)"
      ]
     },
     "execution_count": 11,
     "metadata": {},
     "output_type": "execute_result"
    }
   ],
   "source": [
    "s = 100\n",
    "a = np.array( np.random.rand(5)*500, dtype=np.int8)\n",
    "a"
   ]
  },
  {
   "cell_type": "code",
   "execution_count": 9,
   "metadata": {},
   "outputs": [],
   "source": [
    "n,d = np.shape(x)"
   ]
  },
  {
   "cell_type": "code",
   "execution_count": 269,
   "metadata": {
    "collapsed": true
   },
   "outputs": [],
   "source": [
    "wi = np.array( np.random.rand(d)*1000, dtype=np.int8)\n",
    "s = 1/256.0"
   ]
  },
  {
   "cell_type": "code",
   "execution_count": 311,
   "metadata": {},
   "outputs": [
    {
     "name": "stdout",
     "output_type": "stream",
     "text": [
      "122\n",
      "0.00390625\n",
      "0.4765625\n"
     ]
    }
   ],
   "source": [
    "c = np.array( np.random.rand(1)*1000, dtype=np.uint8)[0]\n",
    "print(c)\n",
    "print(s)\n",
    "print(s*c)"
   ]
  },
  {
   "cell_type": "code",
   "execution_count": 90,
   "metadata": {},
   "outputs": [
    {
     "data": {
      "text/plain": [
       "128"
      ]
     },
     "execution_count": 90,
     "metadata": {},
     "output_type": "execute_result"
    }
   ],
   "source": [
    "-c*(2**7)"
   ]
  },
  {
   "cell_type": "code",
   "execution_count": 105,
   "metadata": {},
   "outputs": [
    {
     "data": {
      "text/plain": [
       "1.0"
      ]
     },
     "execution_count": 105,
     "metadata": {},
     "output_type": "execute_result"
    }
   ],
   "source": [
    "s*(2**7-1)"
   ]
  },
  {
   "cell_type": "code",
   "execution_count": 266,
   "metadata": {},
   "outputs": [
    {
     "data": {
      "text/plain": [
       "255"
      ]
     },
     "execution_count": 266,
     "metadata": {},
     "output_type": "execute_result"
    }
   ],
   "source": [
    "np.array([255], dtype=np.uint8)[0]/"
   ]
  },
  {
   "cell_type": "code",
   "execution_count": 312,
   "metadata": {},
   "outputs": [
    {
     "data": {
      "text/plain": [
       "0.4765625"
      ]
     },
     "execution_count": 312,
     "metadata": {},
     "output_type": "execute_result"
    }
   ],
   "source": [
    "x=s*c\n",
    "x"
   ]
  },
  {
   "cell_type": "code",
   "execution_count": 314,
   "metadata": {},
   "outputs": [
    {
     "data": {
      "text/plain": [
       "122.0"
      ]
     },
     "execution_count": 314,
     "metadata": {},
     "output_type": "execute_result"
    }
   ],
   "source": [
    "y = x/s\n",
    "y"
   ]
  },
  {
   "cell_type": "code",
   "execution_count": 320,
   "metadata": {},
   "outputs": [
    {
     "data": {
      "text/plain": [
       "245"
      ]
     },
     "execution_count": 320,
     "metadata": {},
     "output_type": "execute_result"
    }
   ],
   "source": [
    "np.uint8(501)"
   ]
  }
 ],
 "metadata": {
  "kernelspec": {
   "display_name": "Python 2",
   "language": "python",
   "name": "python2"
  },
  "language_info": {
   "codemirror_mode": {
    "name": "ipython",
    "version": 2
   },
   "file_extension": ".py",
   "mimetype": "text/x-python",
   "name": "python",
   "nbconvert_exporter": "python",
   "pygments_lexer": "ipython2",
   "version": "2.7.13"
  }
 },
 "nbformat": 4,
 "nbformat_minor": 2
}
