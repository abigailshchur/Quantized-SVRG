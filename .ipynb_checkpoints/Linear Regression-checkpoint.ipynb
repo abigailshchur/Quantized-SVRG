{
 "cells": [
  {
   "cell_type": "markdown",
   "metadata": {},
   "source": [
    "### Imports:"
   ]
  },
  {
   "cell_type": "code",
   "execution_count": 1,
   "metadata": {
    "collapsed": true
   },
   "outputs": [],
   "source": [
    "import numpy as np\n",
    "import random\n",
    "import data_generation\n",
    "import high_precision_lr as opt\n",
    "import low_precision_lr as lp\n",
    "import precision_util as p_util\n",
    "import util"
   ]
  },
  {
   "cell_type": "markdown",
   "metadata": {},
   "source": [
    "### Generating Data:\n",
    "* Define $ r \\sim U(-50,50) $, $r_n \\sim N(0,1)$, ground truth weight vector $w$ \n",
    "* Data: $x = r + r_n$\n",
    "* Labels: $y = w' \\cdot x$"
   ]
  },
  {
   "cell_type": "code",
   "execution_count": 2,
   "metadata": {
    "collapsed": true
   },
   "outputs": [],
   "source": [
    "#w = np.random.uniform(low=-1.0, high=127/128.0, size=(20,))\n",
    "n = 100000\n",
    "d=20\n",
    "#x,y = data_generation.generate_data_linear_regression(w,n)\n",
    "s = 1/128.0\n",
    "w,x,y,xt = data_generation.generate_data_low_precision_linear_regression(d,n, s)\n",
    "x_fp = p_util.low_precision_to_float(x,s)"
   ]
  },
  {
   "cell_type": "code",
   "execution_count": 3,
   "metadata": {},
   "outputs": [
    {
     "data": {
      "text/plain": [
       "array([-0.35413414, -0.95289924,  0.86845504, -0.67776489, -0.77791246,\n",
       "       -0.47857556, -0.56690226,  0.70783249,  0.51773915,  0.87789335,\n",
       "        0.52474354, -0.98149934, -0.96113397,  0.51972875,  0.93492311,\n",
       "       -0.4357938 ,  0.23588903, -0.83216524, -0.47097458,  0.41675138])"
      ]
     },
     "execution_count": 3,
     "metadata": {},
     "output_type": "execute_result"
    }
   ],
   "source": [
    "np.random.uniform(low=-1.0, high=127/128.0, size=(d,))"
   ]
  },
  {
   "cell_type": "code",
   "execution_count": 8,
   "metadata": {},
   "outputs": [
    {
     "name": "stdout",
     "output_type": "stream",
     "text": [
      "0.122275151889\n",
      "3.00811730168e-32\n"
     ]
    }
   ],
   "source": [
    "weights_sgd = opt.sgd(0.00001, x_fp, y, 1000000)\n",
    "loss_sgd = opt.loss(weights_sgd, x_fp, y)\n",
    "print(loss_sgd)\n",
    "print(opt.loss(w, x_fp, y))"
   ]
  },
  {
   "cell_type": "code",
   "execution_count": 3,
   "metadata": {},
   "outputs": [
    {
     "name": "stdout",
     "output_type": "stream",
     "text": [
      "[ 0.0006024   0.00254555  0.00149245  0.00147924  0.00112556  0.00215181\n",
      "  0.00027053  0.00212804  0.00183537  0.00225113  0.00018699  0.00018055\n",
      "  0.00131457  0.00116268  0.00223472  0.00153466  0.00263918  0.00209916\n",
      "  0.00208337  0.00030081]\n",
      "[ 0.00060153  0.00254187  0.00149035  0.00147714  0.00112401  0.00214881\n",
      "  0.00027007  0.002125    0.00183278  0.00224787  0.00018676  0.00018029\n",
      "  0.00131272  0.00116101  0.00223153  0.00153248  0.00263537  0.00209616\n",
      "  0.00208041  0.00030038]\n",
      "[ 0.00060065  0.00253819  0.00148826  0.00147504  0.00112245  0.00214581\n",
      "  0.00026962  0.00212196  0.00183019  0.00224463  0.00018653  0.00018002\n",
      "  0.00131086  0.00115935  0.00222836  0.00153031  0.00263156  0.00209315\n",
      "  0.00207745  0.00029996]\n",
      "[ 0.00059977  0.00253452  0.00148617  0.00147295  0.0011209   0.00214281\n",
      "  0.00026917  0.00211893  0.0018276   0.00224138  0.0001863   0.00017975\n",
      "  0.00130902  0.00115769  0.00222518  0.00152815  0.00262776  0.00209016\n",
      "  0.0020745   0.00029953]\n"
     ]
    },
    {
     "ename": "KeyboardInterrupt",
     "evalue": "",
     "output_type": "error",
     "traceback": [
      "\u001b[0;31m---------------------------------------------------------------------------\u001b[0m",
      "\u001b[0;31mKeyboardInterrupt\u001b[0m                         Traceback (most recent call last)",
      "\u001b[0;32m<ipython-input-3-3192423e8acd>\u001b[0m in \u001b[0;36m<module>\u001b[0;34m()\u001b[0m\n\u001b[0;32m----> 1\u001b[0;31m \u001b[0mweights_svrg\u001b[0m\u001b[0;34m,\u001b[0m \u001b[0mtime_array\u001b[0m\u001b[0;34m,\u001b[0m \u001b[0mloss_array\u001b[0m \u001b[0;34m=\u001b[0m \u001b[0mopt\u001b[0m\u001b[0;34m.\u001b[0m\u001b[0msvrg\u001b[0m\u001b[0;34m(\u001b[0m\u001b[0;36m0.01\u001b[0m\u001b[0;34m,\u001b[0m \u001b[0mx_fp\u001b[0m\u001b[0;34m,\u001b[0m \u001b[0my\u001b[0m\u001b[0;34m,\u001b[0m \u001b[0;36m10\u001b[0m\u001b[0;34m,\u001b[0m \u001b[0;36m2\u001b[0m\u001b[0;34m*\u001b[0m\u001b[0mn\u001b[0m\u001b[0;34m,\u001b[0m \u001b[0mcalc_loss\u001b[0m\u001b[0;34m=\u001b[0m\u001b[0mTrue\u001b[0m\u001b[0;34m)\u001b[0m\u001b[0;34m\u001b[0m\u001b[0m\n\u001b[0m\u001b[1;32m      2\u001b[0m \u001b[0mloss_svrg\u001b[0m \u001b[0;34m=\u001b[0m \u001b[0mopt\u001b[0m\u001b[0;34m.\u001b[0m\u001b[0mloss\u001b[0m\u001b[0;34m(\u001b[0m\u001b[0mweights_svrg\u001b[0m\u001b[0;34m,\u001b[0m \u001b[0mx_fp\u001b[0m\u001b[0;34m,\u001b[0m \u001b[0my\u001b[0m\u001b[0;34m)\u001b[0m\u001b[0;34m\u001b[0m\u001b[0m\n\u001b[1;32m      3\u001b[0m \u001b[0;32mprint\u001b[0m\u001b[0;34m(\u001b[0m\u001b[0mloss_svrg\u001b[0m\u001b[0;34m)\u001b[0m\u001b[0;34m\u001b[0m\u001b[0m\n",
      "\u001b[0;32m/Users/abigailshchur/Desktop/Quantized-SVRG/high_precision_lr.py\u001b[0m in \u001b[0;36msvrg\u001b[0;34m(alpha, x, y, K, T, calc_loss)\u001b[0m\n\u001b[1;32m     42\u001b[0m                 \u001b[0;32mfor\u001b[0m \u001b[0mi\u001b[0m \u001b[0;32min\u001b[0m \u001b[0mrange\u001b[0m\u001b[0;34m(\u001b[0m\u001b[0mn\u001b[0m\u001b[0;34m)\u001b[0m\u001b[0;34m:\u001b[0m\u001b[0;34m\u001b[0m\u001b[0m\n\u001b[1;32m     43\u001b[0m                         \u001b[0mxi\u001b[0m \u001b[0;34m=\u001b[0m \u001b[0mx\u001b[0m\u001b[0;34m[\u001b[0m\u001b[0mi\u001b[0m\u001b[0;34m,\u001b[0m \u001b[0;34m:\u001b[0m\u001b[0;34m]\u001b[0m\u001b[0;34m\u001b[0m\u001b[0m\n\u001b[0;32m---> 44\u001b[0;31m                         \u001b[0mmu_tilde\u001b[0m \u001b[0;34m+=\u001b[0m \u001b[0mgradient\u001b[0m\u001b[0;34m(\u001b[0m\u001b[0mw_tilde\u001b[0m\u001b[0;34m,\u001b[0m \u001b[0mxi\u001b[0m\u001b[0;34m,\u001b[0m \u001b[0my\u001b[0m\u001b[0;34m[\u001b[0m\u001b[0mi\u001b[0m\u001b[0;34m]\u001b[0m\u001b[0;34m)\u001b[0m\u001b[0;34m\u001b[0m\u001b[0m\n\u001b[0m\u001b[1;32m     45\u001b[0m                         \u001b[0;31m#if i==0:\u001b[0m\u001b[0;34m\u001b[0m\u001b[0;34m\u001b[0m\u001b[0m\n\u001b[1;32m     46\u001b[0m                                 \u001b[0;31m#print(gradient(w_tilde, xi, y[i]))\u001b[0m\u001b[0;34m\u001b[0m\u001b[0;34m\u001b[0m\u001b[0m\n",
      "\u001b[0;31mKeyboardInterrupt\u001b[0m: "
     ]
    }
   ],
   "source": [
    "weights_svrg, time_array, loss_array = opt.svrg(0.01, x_fp, y, 10, 2*n, calc_loss=True)\n",
    "loss_svrg = opt.loss(weights_svrg, x_fp, y)\n",
    "print(loss_svrg)"
   ]
  },
  {
   "cell_type": "code",
   "execution_count": 4,
   "metadata": {},
   "outputs": [
    {
     "name": "stdout",
     "output_type": "stream",
     "text": [
      "[  1.46484375e-03   1.06811523e-03   2.50244141e-03   2.44140625e-04\n",
      "   1.52587891e-04   3.66210938e-04   1.31225586e-03   1.86157227e-03\n",
      "   4.57763672e-04   2.53295898e-03  -4.27246094e-04   1.22070312e-04\n",
      "   1.80053711e-03  -5.49316406e-04   1.70898438e-03   9.15527344e-05\n",
      "   3.69262695e-03   3.75366211e-03   2.71606445e-03   6.71386719e-04]\n",
      "[    53 -32733 -32686 -32760 -32763 -32756 -32725 -32707 -32753 -32685\n",
      "  32754 -32764 -32709  32750 -32712 -32765 -32647 -32645 -32679 -32746]\n",
      "[ 0.00161743 -0.99893188 -0.99749756 -0.99975586 -0.99984741 -0.99963379\n",
      " -0.99868774 -0.99813843 -0.99954224 -0.99746704  0.99957275 -0.99987793\n",
      " -0.99819946  0.99945068 -0.99829102 -0.99990845 -0.99630737 -0.99624634\n",
      " -0.99728394 -0.99932861]\n",
      "[  1.43432617e-03   1.06811523e-03   2.50244141e-03   2.44140625e-04\n",
      "   1.83105469e-04   3.96728516e-04   1.31225586e-03   1.89208984e-03\n",
      "   3.96728516e-04   2.53295898e-03  -3.29589844e-03   1.22070312e-04\n",
      "   1.83105469e-03  -3.41796875e-03   1.64794922e-03   6.10351562e-05\n",
      "   3.69262695e-03   3.72314453e-03   2.68554688e-03   7.01904297e-04]\n",
      "[   100 -32698 -32604 -32752 -32757 -32743 -32682 -32645 -32740 -32602\n",
      "  32646 -32760 -32649  32638 -32658 -32763 -32526 -32523 -32591 -32723]\n",
      "[ 0.00305176 -0.99786377 -0.99499512 -0.99951172 -0.99966431 -0.99923706\n",
      " -0.99737549 -0.99624634 -0.99914551 -0.99493408  0.99627686 -0.99975586\n",
      " -0.99636841  0.99603271 -0.99664307 -0.99984741 -0.99261475 -0.99252319\n",
      " -0.99459839 -0.99862671]\n",
      "[  1.43432617e-03   1.06811523e-03   2.50244141e-03   2.74658203e-04\n",
      "   1.83105469e-04   3.96728516e-04   1.31225586e-03   1.86157227e-03\n",
      "   4.27246094e-04   2.56347656e-03  -3.29589844e-03   1.22070312e-04\n",
      "   1.77001953e-03  -3.41796875e-03   1.64794922e-03   6.10351562e-05\n",
      "   3.72314453e-03   3.72314453e-03   2.71606445e-03   7.32421875e-04]\n",
      "[   147 -32663 -32522 -32743 -32751 -32730 -32639 -32584 -32726 -32518\n",
      "  32538 -32756 -32591  32526 -32604 -32761 -32404 -32401 -32502 -32699]\n",
      "[ 0.00448608 -0.99679565 -0.99249268 -0.99923706 -0.9994812  -0.99884033\n",
      " -0.99606323 -0.99438477 -0.99871826 -0.99237061  0.99298096 -0.99963379\n",
      " -0.99459839  0.99261475 -0.99499512 -0.99978638 -0.9888916  -0.98880005\n",
      " -0.99188232 -0.99789429]\n",
      "[  1.43432617e-03   1.06811523e-03   2.50244141e-03   2.44140625e-04\n",
      "   1.83105469e-04   3.96728516e-04   1.31225586e-03   1.86157227e-03\n",
      "   3.96728516e-04   2.56347656e-03  -3.29589844e-03   1.22070312e-04\n",
      "   1.77001953e-03  -3.41796875e-03   1.67846680e-03   9.15527344e-05\n",
      "   3.66210938e-03   3.75366211e-03   2.71606445e-03   7.32421875e-04]\n",
      "[   194 -32628 -32440 -32735 -32745 -32717 -32596 -32523 -32713 -32434\n",
      "  32430 -32752 -32533  32414 -32549 -32758 -32284 -32278 -32413 -32675]\n",
      "[ 0.00592041 -0.99572754 -0.98999023 -0.99899292 -0.9992981  -0.9984436\n",
      " -0.99475098 -0.99252319 -0.99832153 -0.98980713  0.98968506 -0.99951172\n",
      " -0.99282837  0.98919678 -0.99331665 -0.99969482 -0.98522949 -0.98504639\n",
      " -0.98916626 -0.99716187]\n"
     ]
    },
    {
     "ename": "KeyboardInterrupt",
     "evalue": "",
     "output_type": "error",
     "traceback": [
      "\u001b[0;31m---------------------------------------------------------------------------\u001b[0m",
      "\u001b[0;31mKeyboardInterrupt\u001b[0m                         Traceback (most recent call last)",
      "\u001b[0;32m<ipython-input-4-a9ed991343af>\u001b[0m in \u001b[0;36m<module>\u001b[0;34m()\u001b[0m\n\u001b[0;32m----> 1\u001b[0;31m \u001b[0mweights_svrg_lp\u001b[0m\u001b[0;34m,\u001b[0m \u001b[0mtime_array_lp\u001b[0m\u001b[0;34m,\u001b[0m \u001b[0mloss_array_lp\u001b[0m \u001b[0;34m=\u001b[0m \u001b[0mlp\u001b[0m\u001b[0;34m.\u001b[0m\u001b[0msvrg\u001b[0m\u001b[0;34m(\u001b[0m\u001b[0;36m0.01\u001b[0m\u001b[0;34m,\u001b[0m \u001b[0mx\u001b[0m\u001b[0;34m,\u001b[0m \u001b[0my\u001b[0m\u001b[0;34m,\u001b[0m \u001b[0;36m10\u001b[0m\u001b[0;34m,\u001b[0m \u001b[0;36m2\u001b[0m\u001b[0;34m*\u001b[0m\u001b[0mn\u001b[0m\u001b[0;34m,\u001b[0m \u001b[0mcalc_loss\u001b[0m\u001b[0;34m=\u001b[0m\u001b[0mTrue\u001b[0m\u001b[0;34m)\u001b[0m\u001b[0;34m\u001b[0m\u001b[0m\n\u001b[0m",
      "\u001b[0;32m/Users/abigailshchur/Desktop/Quantized-SVRG/low_precision_lr.py\u001b[0m in \u001b[0;36msvrg\u001b[0;34m(alpha, x, y, K, T, calc_loss)\u001b[0m\n\u001b[1;32m     93\u001b[0m                 \u001b[0;32mfor\u001b[0m \u001b[0mi\u001b[0m \u001b[0;32min\u001b[0m \u001b[0mrange\u001b[0m\u001b[0;34m(\u001b[0m\u001b[0mn\u001b[0m\u001b[0;34m)\u001b[0m\u001b[0;34m:\u001b[0m\u001b[0;34m\u001b[0m\u001b[0m\n\u001b[1;32m     94\u001b[0m                         \u001b[0mxi\u001b[0m \u001b[0;34m=\u001b[0m \u001b[0mx\u001b[0m\u001b[0;34m[\u001b[0m\u001b[0mi\u001b[0m\u001b[0;34m,\u001b[0m \u001b[0;34m:\u001b[0m\u001b[0;34m]\u001b[0m\u001b[0;34m\u001b[0m\u001b[0m\n\u001b[0;32m---> 95\u001b[0;31m                         \u001b[0mgrd\u001b[0m \u001b[0;34m=\u001b[0m \u001b[0mgradient\u001b[0m\u001b[0;34m(\u001b[0m\u001b[0mw_tilde\u001b[0m\u001b[0;34m,\u001b[0m \u001b[0mxi\u001b[0m\u001b[0;34m,\u001b[0m \u001b[0msr\u001b[0m\u001b[0;34m,\u001b[0m \u001b[0msb\u001b[0m\u001b[0;34m,\u001b[0m \u001b[0my\u001b[0m\u001b[0;34m[\u001b[0m\u001b[0mi\u001b[0m\u001b[0;34m]\u001b[0m\u001b[0;34m)\u001b[0m\u001b[0;34m*\u001b[0m\u001b[0mxi\u001b[0m\u001b[0;34m.\u001b[0m\u001b[0mastype\u001b[0m\u001b[0;34m(\u001b[0m\u001b[0mfloat\u001b[0m\u001b[0;34m)\u001b[0m\u001b[0;34m*\u001b[0m\u001b[0msr\u001b[0m\u001b[0;34m\u001b[0m\u001b[0m\n\u001b[0m\u001b[1;32m     96\u001b[0m                         \u001b[0;31m#if (i==0):\u001b[0m\u001b[0;34m\u001b[0m\u001b[0;34m\u001b[0m\u001b[0m\n\u001b[1;32m     97\u001b[0m                                 \u001b[0;31m#print(grd)\u001b[0m\u001b[0;34m\u001b[0m\u001b[0;34m\u001b[0m\u001b[0m\n",
      "\u001b[0;32m/Users/abigailshchur/Desktop/Quantized-SVRG/low_precision_lr.py\u001b[0m in \u001b[0;36mgradient\u001b[0;34m(wi, xi, sx, sw, yi)\u001b[0m\n\u001b[1;32m      8\u001b[0m \"\"\"\n\u001b[1;32m      9\u001b[0m \u001b[0;32mdef\u001b[0m \u001b[0mgradient\u001b[0m\u001b[0;34m(\u001b[0m\u001b[0mwi\u001b[0m\u001b[0;34m,\u001b[0m \u001b[0mxi\u001b[0m\u001b[0;34m,\u001b[0m \u001b[0msx\u001b[0m\u001b[0;34m,\u001b[0m \u001b[0msw\u001b[0m\u001b[0;34m,\u001b[0m \u001b[0myi\u001b[0m\u001b[0;34m)\u001b[0m\u001b[0;34m:\u001b[0m\u001b[0;34m\u001b[0m\u001b[0m\n\u001b[0;32m---> 10\u001b[0;31m         \u001b[0mdp\u001b[0m \u001b[0;34m=\u001b[0m \u001b[0mnp\u001b[0m\u001b[0;34m.\u001b[0m\u001b[0mdot\u001b[0m\u001b[0;34m(\u001b[0m\u001b[0mwi\u001b[0m\u001b[0;34m.\u001b[0m\u001b[0mastype\u001b[0m\u001b[0;34m(\u001b[0m\u001b[0mnp\u001b[0m\u001b[0;34m.\u001b[0m\u001b[0mint32\u001b[0m\u001b[0;34m)\u001b[0m\u001b[0;34m,\u001b[0m \u001b[0mxi\u001b[0m\u001b[0;34m.\u001b[0m\u001b[0mastype\u001b[0m\u001b[0;34m(\u001b[0m\u001b[0mnp\u001b[0m\u001b[0;34m.\u001b[0m\u001b[0mint32\u001b[0m\u001b[0;34m)\u001b[0m\u001b[0;34m)\u001b[0m\u001b[0;34m\u001b[0m\u001b[0m\n\u001b[0m\u001b[1;32m     11\u001b[0m         \u001b[0;32mreturn\u001b[0m \u001b[0;36m2.0\u001b[0m\u001b[0;34m*\u001b[0m\u001b[0;34m(\u001b[0m\u001b[0mfloat\u001b[0m\u001b[0;34m(\u001b[0m\u001b[0mdp\u001b[0m\u001b[0;34m)\u001b[0m\u001b[0;34m*\u001b[0m\u001b[0msx\u001b[0m\u001b[0;34m*\u001b[0m\u001b[0msw\u001b[0m \u001b[0;34m-\u001b[0m \u001b[0myi\u001b[0m\u001b[0;34m)\u001b[0m\u001b[0;34m\u001b[0m\u001b[0m\n\u001b[1;32m     12\u001b[0m \u001b[0;34m\u001b[0m\u001b[0m\n",
      "\u001b[0;31mKeyboardInterrupt\u001b[0m: "
     ]
    }
   ],
   "source": [
    "weights_svrg_lp, time_array_lp, loss_array_lp = lp.svrg(0.01, x, y, 10, 2*n, calc_loss=True)"
   ]
  },
  {
   "cell_type": "code",
   "execution_count": 9,
   "metadata": {},
   "outputs": [
    {
     "name": "stdout",
     "output_type": "stream",
     "text": [
      "[-0.57396656 -0.18144354  0.71354904  0.49809472 -0.0248244  -0.50941274\n",
      " -0.30993996  0.34159519 -0.39074943  0.13003117  0.83540426 -0.49257245\n",
      " -0.1015909   0.07427444 -0.30637166 -0.80601474 -0.63490116 -0.3194954\n",
      " -0.66288835  0.75235394]\n",
      "[ -1675 -32579 -26476  -4123  15754   5325 -11513  -8257   1772 -31178\n",
      "  31836 -31541 -32695 -28763   4366 -23616 -32535 -32341 -14246  14418]\n",
      "[-0.05111694 -0.99423218 -0.8079834  -0.12582397  0.48077393  0.1625061\n",
      " -0.35134888 -0.25198364  0.05407715 -0.95147705  0.97155762 -0.96255493\n",
      " -0.99777222 -0.8777771   0.13323975 -0.72070312 -0.9928894  -0.98696899\n",
      " -0.43475342  0.44000244]\n",
      "1.20225125587e+13\n"
     ]
    }
   ],
   "source": [
    "print(w)\n",
    "print(weights_svrg_lp)\n",
    "print(weights_svrg_lp.astype(float)*(1/(2.0*128.0*128.0)))\n",
    "print(loss_array_lp[-1])"
   ]
  },
  {
   "cell_type": "code",
   "execution_count": 27,
   "metadata": {
    "collapsed": true
   },
   "outputs": [],
   "source": [
    "def quantize(vec, s, qtype, vmin, vmax):\n",
    "    vec = vec / s\n",
    "    vec2 = np.zeros(len(vec), dtype=qtype)\n",
    "    for i in range(len(vec)):\n",
    "        if vec[i] > vmax:\n",
    "            vec2[i] = np.int8(vmax)\n",
    "        elif vec[i] < vmin:\n",
    "            vec2[i] = np.int8(vmin)\n",
    "        else:\n",
    "            vec2[i] = np.int8(vec[i])\n",
    "            if np.random.rand() > vec[i]%1 and vec2[i] < vmax:\n",
    "                vec2[i]+=1\n",
    "    return vec2"
   ]
  },
  {
   "cell_type": "code",
   "execution_count": 28,
   "metadata": {},
   "outputs": [
    {
     "name": "stdout",
     "output_type": "stream",
     "text": [
      "[-1.84770538 -0.04399144 -1.83136957 -1.53161005 -1.76056097 -2.45602593\n",
      "  2.98027495 -2.25663986 -1.74204489  0.24004426  0.52335054  0.15139627\n",
      "  2.91420651  2.73666123  0.83169034 -2.15405737 -2.59714546  0.11517215\n",
      "  1.6023328  -2.76690512]\n",
      "[-128   -4 -128 -128 -128 -128  127 -128 -128   30   66   20  127  127  107\n",
      " -128 -128   15  127 -128]\n"
     ]
    }
   ],
   "source": [
    "v = np.random.uniform(low=-3, high=3, size=(d,))\n",
    "print(v)\n",
    "v2 = quantize(v, 1/128.0, np.int8, -128, 127)\n",
    "print(v2)"
   ]
  },
  {
   "cell_type": "code",
   "execution_count": 21,
   "metadata": {},
   "outputs": [
    {
     "data": {
      "text/plain": [
       "0.4222021298327193"
      ]
     },
     "execution_count": 21,
     "metadata": {},
     "output_type": "execute_result"
    }
   ],
   "source": [
    "np.random.rand()"
   ]
  },
  {
   "cell_type": "code",
   "execution_count": 37,
   "metadata": {},
   "outputs": [
    {
     "name": "stdout",
     "output_type": "stream",
     "text": [
      "-1.0\n",
      "0.9921875\n"
     ]
    }
   ],
   "source": [
    "print(-(1/128.0)*(2**(7)))\n",
    "print((1/128.0)*(2**(7)-1))"
   ]
  },
  {
   "cell_type": "code",
   "execution_count": 42,
   "metadata": {},
   "outputs": [
    {
     "name": "stdout",
     "output_type": "stream",
     "text": [
      "-1.0\n",
      "0.999969482422\n"
     ]
    }
   ],
   "source": [
    "print(-(1/(2.0*128.0*128.0))*(2**(15)))\n",
    "print((1/(2.0*128.0*128.0))*(2**(15)-1))"
   ]
  },
  {
   "cell_type": "code",
   "execution_count": 44,
   "metadata": {},
   "outputs": [
    {
     "name": "stdout",
     "output_type": "stream",
     "text": [
      "32768.0\n",
      "128.0\n",
      "256.0\n"
     ]
    }
   ],
   "source": [
    "sg = 1/(2*128.0*128.0)\n",
    "print(1/sg)\n",
    "sr = 1/128.0\n",
    "print(1/sr)\n",
    "sp = \n",
    "print(1/sp)"
   ]
  },
  {
   "cell_type": "code",
   "execution_count": 46,
   "metadata": {},
   "outputs": [
    {
     "name": "stdout",
     "output_type": "stream",
     "text": [
      "256.0\n"
     ]
    }
   ],
   "source": [
    "print(1/(sg/sr))"
   ]
  },
  {
   "cell_type": "code",
   "execution_count": 48,
   "metadata": {
    "collapsed": true
   },
   "outputs": [],
   "source": [
    "sb = 1/(2*128.0*128.0); sr = 1/128.0; sg = sb; sp = 1/(sg/sr) # defining all scales\n",
    "bb = 16; br = 8; bp = 8; bg = 16"
   ]
  },
  {
   "cell_type": "code",
   "execution_count": 13,
   "metadata": {
    "collapsed": true
   },
   "outputs": [],
   "source": [
    "def range_of_lp(s,b):\n",
    "    minv = -s*2**(b-1)\n",
    "    maxv = s*((2**(b-1))-1)\n",
    "    return (minv, maxv)"
   ]
  },
  {
   "cell_type": "code",
   "execution_count": 14,
   "metadata": {
    "collapsed": true
   },
   "outputs": [],
   "source": [
    "sb = 1/(2.0*128.0*128.0); sr = 1/128.0; sg = sb; sp = sg/sr # defining all scales\n",
    "bb = 16; br = 8; bp = 8; bg = 16"
   ]
  },
  {
   "cell_type": "code",
   "execution_count": 15,
   "metadata": {},
   "outputs": [
    {
     "data": {
      "text/plain": [
       "(-1.0, 0.999969482421875)"
      ]
     },
     "execution_count": 15,
     "metadata": {},
     "output_type": "execute_result"
    }
   ],
   "source": [
    "range_of_lp(sg, bg)"
   ]
  },
  {
   "cell_type": "code",
   "execution_count": 40,
   "metadata": {},
   "outputs": [
    {
     "data": {
      "text/plain": [
       "32768"
      ]
     },
     "execution_count": 40,
     "metadata": {},
     "output_type": "execute_result"
    }
   ],
   "source": [
    "2*128*128"
   ]
  },
  {
   "cell_type": "code",
   "execution_count": 34,
   "metadata": {},
   "outputs": [
    {
     "data": {
      "text/plain": [
       "-2.0"
      ]
     },
     "execution_count": 34,
     "metadata": {},
     "output_type": "execute_result"
    }
   ],
   "source": [
    "-(1/(128.0*128.0))*2**(15)"
   ]
  },
  {
   "cell_type": "code",
   "execution_count": 133,
   "metadata": {},
   "outputs": [
    {
     "name": "stdout",
     "output_type": "stream",
     "text": [
      "[[172 103]\n",
      " [133 163]]\n",
      "[[123  17]\n",
      " [ 99 124]]\n",
      "[[16812  4199]\n",
      " [24453 17059]]\n",
      "[[123  17]\n",
      " [ 99 124]]\n",
      "[[ 0.46067416  0.06367041]\n",
      " [ 0.37078652  0.46441948]]\n"
     ]
    }
   ],
   "source": [
    "temp = np.random.randint(128, size=(2,2), dtype=np.uint8)\n",
    "print(np.dot(temp, temp))\n",
    "print(temp)\n",
    "temp = temp.astype(np.uint16)\n",
    "print(np.dot(temp, temp))\n",
    "print(temp)\n",
    "print(temp/267.0)"
   ]
  },
  {
   "cell_type": "code",
   "execution_count": null,
   "metadata": {
    "collapsed": true
   },
   "outputs": [],
   "source": []
  },
  {
   "cell_type": "code",
   "execution_count": 123,
   "metadata": {},
   "outputs": [
    {
     "data": {
      "text/plain": [
       "15041"
      ]
     },
     "execution_count": 123,
     "metadata": {},
     "output_type": "execute_result"
    }
   ],
   "source": [
    "71*71+100*100"
   ]
  },
  {
   "cell_type": "code",
   "execution_count": 125,
   "metadata": {},
   "outputs": [
    {
     "data": {
      "text/plain": [
       "193"
      ]
     },
     "execution_count": 125,
     "metadata": {},
     "output_type": "execute_result"
    }
   ],
   "source": [
    "15041 % 256"
   ]
  },
  {
   "cell_type": "code",
   "execution_count": null,
   "metadata": {
    "collapsed": true
   },
   "outputs": [],
   "source": []
  },
  {
   "cell_type": "code",
   "execution_count": null,
   "metadata": {
    "collapsed": true
   },
   "outputs": [],
   "source": []
  },
  {
   "cell_type": "code",
   "execution_count": null,
   "metadata": {
    "collapsed": true
   },
   "outputs": [],
   "source": []
  },
  {
   "cell_type": "code",
   "execution_count": null,
   "metadata": {
    "collapsed": true
   },
   "outputs": [],
   "source": []
  },
  {
   "cell_type": "code",
   "execution_count": null,
   "metadata": {
    "collapsed": true
   },
   "outputs": [],
   "source": []
  },
  {
   "cell_type": "code",
   "execution_count": null,
   "metadata": {
    "collapsed": true
   },
   "outputs": [],
   "source": []
  },
  {
   "cell_type": "code",
   "execution_count": null,
   "metadata": {
    "collapsed": true
   },
   "outputs": [],
   "source": []
  },
  {
   "cell_type": "code",
   "execution_count": 155,
   "metadata": {},
   "outputs": [
    {
     "name": "stdout",
     "output_type": "stream",
     "text": [
      "real weights: [ 0.7734375  0.3671875 -0.53125    0.640625  -0.421875 ]\n",
      "LP weights: [ 99  47 -68  82 -54]\n",
      "\n",
      "real x: [[ 0.09375   -0.78125   -0.2109375  0.984375  -0.46875  ]\n",
      " [-0.5        0.5078125 -0.5        0.671875  -0.015625 ]\n",
      " [ 0.2578125 -0.4140625 -0.875     -0.984375  -0.015625 ]\n",
      " [ 0.921875  -0.734375  -0.2109375 -0.65625   -0.640625 ]\n",
      " [-0.8203125  0.65625    0.7421875 -0.046875   0.171875 ]\n",
      " [-0.796875   0.9921875  0.         0.578125   0.21875  ]\n",
      " [ 0.0078125 -0.953125   0.546875  -0.1875    -0.6640625]\n",
      " [-0.1484375  0.765625   0.359375  -0.1171875 -0.1953125]\n",
      " [-1.         0.78125    0.2265625 -0.5390625  0.3125   ]\n",
      " [ 0.09375   -0.4140625  0.3515625 -0.890625  -0.171875 ]]\n",
      "LP x: [[  12 -100  -27  126  -60]\n",
      " [ -64   65  -64   86   -2]\n",
      " [  33  -53 -112 -126   -2]\n",
      " [ 118  -94  -27  -84  -82]\n",
      " [-105   84   95   -6   22]\n",
      " [-102  127    0   74   28]\n",
      " [   1 -122   70  -24  -85]\n",
      " [ -19   98   46  -15  -25]\n",
      " [-128  100   29  -69   40]\n",
      " [  12  -53   45 -114  -22]]\n",
      "\n",
      "lp y: [120  39 -40 -16   5 -85 -93 -27 -98  21]\n",
      "hp y: [ 0.9375     0.3046875 -0.3125    -0.125      0.0390625 -0.6640625\n",
      " -0.7265625 -0.2109375 -0.765625   0.1640625]\n",
      "other hp y: [ 0.72607422  0.50238037 -0.11181641  0.40527344 -0.89031982  0.02606201\n",
      " -0.47442627 -0.01727295 -1.08410645 -0.76434326]\n"
     ]
    }
   ],
   "source": [
    "d=5\n",
    "n=10\n",
    "w = np.random.randint(128, size=(d,), dtype=np.int8)\n",
    "s = 1/128.0\n",
    "x = np.int8(np.random.rand(n,d)*256.0)\n",
    "#y_noise = np.\n",
    "for i in range(len(w)):\n",
    "    if np.random.rand()<=0.5:\n",
    "        w[i] = -1*w[i]\n",
    "y = np.dot(w,x.T)\n",
    "x_fp = x*s\n",
    "w_fp = w*s\n",
    "print(\"real weights: \" + str(w*s))\n",
    "print(\"LP weights: \" + str(w) + \"\\n\")\n",
    "\n",
    "print(\"real x: \" + str(x_fp))\n",
    "print(\"LP x: \" + str(x) + \"\\n\")\n",
    "\n",
    "print(\"lp y: \"+ str(y))\n",
    "print(\"hp y: \" + str(y*s))\n",
    "\n",
    "print(\"other hp y: \" + str(np.dot(w_fp, x_fp.T)))"
   ]
  },
  {
   "cell_type": "code",
   "execution_count": 166,
   "metadata": {},
   "outputs": [
    {
     "data": {
      "text/plain": [
       "array([-126], dtype=int8)"
      ]
     },
     "execution_count": 166,
     "metadata": {},
     "output_type": "execute_result"
    }
   ],
   "source": [
    "d=5\n",
    "n=10\n",
    "w = np.random.randint(128, size=(d,1), dtype=np.int8)\n",
    "x = np.random.randint(128, size=(d,n), dtype=np.int8)\n",
    "np.dot(x.T[0],w)[0]"
   ]
  },
  {
   "cell_type": "code",
   "execution_count": 10,
   "metadata": {
    "collapsed": true
   },
   "outputs": [],
   "source": [
    "import numpy as np\n",
    "import time\n",
    "n=1000000\n",
    "d=100"
   ]
  },
  {
   "cell_type": "code",
   "execution_count": 34,
   "metadata": {},
   "outputs": [
    {
     "name": "stdout",
     "output_type": "stream",
     "text": [
      "5.78956222534\n"
     ]
    }
   ],
   "source": [
    "start = time.time()\n",
    "for i in range(1000000):\n",
    "    w1 = np.random.uniform(low=-1.0, high=127/128.0, size=(d,))\n",
    "    w2 = np.random.uniform(low=-1.0, high=127/128.0, size=(d,)).T\n",
    "    c = np.dot(w1,w2)\n",
    "end = time.time()\n",
    "print(end - start)"
   ]
  },
  {
   "cell_type": "code",
   "execution_count": 35,
   "metadata": {},
   "outputs": [
    {
     "name": "stdout",
     "output_type": "stream",
     "text": [
      "5.08867192268\n"
     ]
    }
   ],
   "source": [
    "start = time.time()\n",
    "for i in range(1000000):\n",
    "    w1 = np.random.randint(128, size=(1,d), dtype=np.int32)\n",
    "    w2 = np.random.randint(128, size=(d,1), dtype=np.int32)\n",
    "    c = np.dot(w1,w2)\n",
    "end = time.time()\n",
    "print(end - start)"
   ]
  },
  {
   "cell_type": "code",
   "execution_count": 36,
   "metadata": {},
   "outputs": [
    {
     "name": "stdout",
     "output_type": "stream",
     "text": [
      "4.40244007111\n"
     ]
    }
   ],
   "source": [
    "start = time.time()\n",
    "for i in range(1000000):\n",
    "    w1 = np.random.randint(128, size=(1,d), dtype=np.int16)\n",
    "    w2 = np.random.randint(128, size=(d,1), dtype=np.int16)\n",
    "    c = np.dot(w1,w2)\n",
    "end = time.time()\n",
    "print(end - start)"
   ]
  },
  {
   "cell_type": "code",
   "execution_count": 37,
   "metadata": {},
   "outputs": [
    {
     "name": "stdout",
     "output_type": "stream",
     "text": [
      "4.1257109642\n"
     ]
    }
   ],
   "source": [
    "start = time.time()\n",
    "for i in range(1000000):\n",
    "    w1 = np.random.randint(128, size=(1,d), dtype=np.int8)\n",
    "    w2 = np.random.randint(128, size=(d,1), dtype=np.int8)\n",
    "    c = np.dot(w1,w2)\n",
    "end = time.time()\n",
    "print(end - start)"
   ]
  },
  {
   "cell_type": "code",
   "execution_count": 60,
   "metadata": {},
   "outputs": [
    {
     "name": "stdout",
     "output_type": "stream",
     "text": [
      "[120 121 127]\n",
      "[120 121 127]\n",
      "<type 'numpy.int16'>\n",
      "-20366\n",
      "45170\n"
     ]
    }
   ],
   "source": [
    "a = np.array([120, 121, 127], dtype=np.int8)\n",
    "a = a.astype(np.int16)\n",
    "b = np.array([120, 121, 127], dtype=np.int8)\n",
    "b = b.astype(np.int16)\n",
    "#b = 255 - b\n",
    "#np.putmask(a, b < a, b) \n",
    "#a += 255 - b\n",
    "print(a)\n",
    "print(b)\n",
    "print(type(np.dot(a,b)))\n",
    "print(np.dot(a,b))\n",
    "print()"
   ]
  },
  {
   "cell_type": "code",
   "execution_count": 48,
   "metadata": {},
   "outputs": [
    {
     "data": {
      "text/plain": [
       "16129"
      ]
     },
     "execution_count": 48,
     "metadata": {},
     "output_type": "execute_result"
    }
   ],
   "source": [
    "127*127"
   ]
  },
  {
   "cell_type": "code",
   "execution_count": 29,
   "metadata": {},
   "outputs": [
    {
     "data": {
      "text/plain": [
       "16384"
      ]
     },
     "execution_count": 29,
     "metadata": {},
     "output_type": "execute_result"
    }
   ],
   "source": [
    "128*128"
   ]
  },
  {
   "cell_type": "code",
   "execution_count": 62,
   "metadata": {},
   "outputs": [
    {
     "name": "stdout",
     "output_type": "stream",
     "text": [
      "29.6326749325\n"
     ]
    }
   ],
   "source": [
    "start = time.time()\n",
    "for i in range(1000000):\n",
    "    w1 = np.random.randint(128, size=(1,d), dtype=np.int8)\n",
    "    w2 = np.random.randint(128, size=(d,1), dtype=np.int8)\n",
    "    #c = np.dot(w1,w2)\n",
    "    c = sum((np.diag(np.outer(w1,w2))))\n",
    "end = time.time()\n",
    "print(end - start)"
   ]
  },
  {
   "cell_type": "code",
   "execution_count": 78,
   "metadata": {},
   "outputs": [
    {
     "name": "stdout",
     "output_type": "stream",
     "text": [
      "0.9921875\n",
      "0.99609375\n",
      "0.988311767578\n",
      "[127]\n",
      "[255]\n",
      "32385\n",
      "0.988311767578\n"
     ]
    }
   ],
   "source": [
    "a = np.zeros(1)\n",
    "a[0] = 127\n",
    "a = a.astype(np.int32)\n",
    "b = np.zeros(1)\n",
    "b[0] = 255\n",
    "b = b.astype(np.int32)\n",
    "print(a[0]/128.0)\n",
    "print(b[0]/256.0)\n",
    "print((a[0]/128.0)*(b[0]/256.0))\n",
    "print(a)\n",
    "print(b)\n",
    "print(np.dot(a,b))\n",
    "print(np.dot(a,b)/(256.0*128.0))"
   ]
  },
  {
   "cell_type": "code",
   "execution_count": 77,
   "metadata": {},
   "outputs": [
    {
     "data": {
      "text/plain": [
       "0.98443603515625"
      ]
     },
     "execution_count": 77,
     "metadata": {},
     "output_type": "execute_result"
    }
   ],
   "source": [
    "16129/(128.0*128.0)"
   ]
  },
  {
   "cell_type": "code",
   "execution_count": 158,
   "metadata": {},
   "outputs": [
    {
     "data": {
      "text/plain": [
       "array([[ 26,  11,  77,  39,  95,  29,  78, 127,  54,  45],\n",
       "       [104,   1, 109,  20,  40, 116,  93, 100,  88,   4],\n",
       "       [105,  35,  61,  64,  34,  24,  25,  94,  69, 114],\n",
       "       [  4,  97,  16,  15,  39,  43,  37,  48,  46, 126],\n",
       "       [ 98, 103,  52,   7, 107,  18,  25,   5,  96, 126]], dtype=int8)"
      ]
     },
     "execution_count": 158,
     "metadata": {},
     "output_type": "execute_result"
    }
   ],
   "source": [
    "\n",
    "w = np.random.randint(128, size=(d,1), dtype=np.int8)\n",
    "x = np.random.randint(128, size=(d,n), dtype=np.int8)\n",
    "y1 = np.dot()"
   ]
  },
  {
   "cell_type": "code",
   "execution_count": null,
   "metadata": {
    "collapsed": true
   },
   "outputs": [],
   "source": []
  },
  {
   "cell_type": "code",
   "execution_count": 28,
   "metadata": {},
   "outputs": [
    {
     "name": "stdout",
     "output_type": "stream",
     "text": [
      "[-114  -24   39  -20   47  -96   80   39   56  -72  -32   23  -22   40 -119\n",
      "   65   40 -103   60   68]\n"
     ]
    }
   ],
   "source": [
    "w = np.random.randint(128, size=(20,), dtype=np.int8)\n",
    "for i in range(len(w)):\n",
    "    if np.random.rand()<=0.5:\n",
    "        w[i] = -1*w[i]\n",
    "print(w)"
   ]
  },
  {
   "cell_type": "code",
   "execution_count": 23,
   "metadata": {},
   "outputs": [
    {
     "data": {
      "text/plain": [
       "0.7772420559738643"
      ]
     },
     "execution_count": 23,
     "metadata": {},
     "output_type": "execute_result"
    }
   ],
   "source": [
    "np.random.rand()"
   ]
  },
  {
   "cell_type": "markdown",
   "metadata": {},
   "source": [
    "### Implementing Regular SGD:"
   ]
  },
  {
   "cell_type": "code",
   "execution_count": 13,
   "metadata": {},
   "outputs": [
    {
     "name": "stdout",
     "output_type": "stream",
     "text": [
      "[-0.58680067 -0.58775706  0.58756918 -0.20435555 -0.21937066 -0.32583675\n",
      " -0.59174067  0.77565465  0.59937491 -0.4065978  -0.01462398 -0.90884922\n",
      "  0.72053323 -0.38196197 -0.68489784 -0.06945661  0.40428175 -0.88493076\n",
      " -0.16113794  0.14594184]\n"
     ]
    }
   ],
   "source": [
    "weights_sgd = util.fp_sgd_lr(0.00001, x, y, 1000000)\n",
    "print(weights_sgd)"
   ]
  },
  {
   "cell_type": "code",
   "execution_count": 14,
   "metadata": {},
   "outputs": [
    {
     "data": {
      "text/plain": [
       "array([-0.58199342, -0.58588567,  0.59013466, -0.20628235, -0.22240208,\n",
       "       -0.33281258, -0.59259206,  0.77228086,  0.59325885, -0.41017419,\n",
       "       -0.0122873 , -0.90807853,  0.7185581 , -0.38382994, -0.68490761,\n",
       "       -0.0732114 ,  0.40020482, -0.88968201, -0.16094599,  0.14622645])"
      ]
     },
     "execution_count": 14,
     "metadata": {},
     "output_type": "execute_result"
    }
   ],
   "source": [
    "w"
   ]
  },
  {
   "cell_type": "markdown",
   "metadata": {},
   "source": [
    "### Implementing Regular SVRG:"
   ]
  },
  {
   "cell_type": "code",
   "execution_count": 15,
   "metadata": {},
   "outputs": [
    {
     "name": "stdout",
     "output_type": "stream",
     "text": [
      "[-0.57837434 -0.5877051   0.5947251  -0.20903153 -0.22238229 -0.33178112\n",
      " -0.59472988  0.77340156  0.59556061 -0.40775873 -0.01495451 -0.90660489\n",
      "  0.71798751 -0.38424243 -0.68273818 -0.07204257  0.39958954 -0.88872993\n",
      " -0.15962429  0.14578889]\n"
     ]
    }
   ],
   "source": [
    "weights_svrg = util.fp_svrg_lr(0.00001, x, y, 10)\n",
    "print(weights_svrg)"
   ]
  },
  {
   "cell_type": "markdown",
   "metadata": {},
   "source": [
    "### LP SGD:"
   ]
  },
  {
   "cell_type": "code",
   "execution_count": 16,
   "metadata": {},
   "outputs": [
    {
     "name": "stdout",
     "output_type": "stream",
     "text": [
      "[-40 -57  24  -3  -1 -20 -43  64  49 -15   0 -81  48 -21 -48   0  23 -88\n",
      "   1   0]\n",
      "[-0.3125    -0.4453125  0.1875    -0.0234375 -0.0078125 -0.15625   -0.3359375\n",
      "  0.5        0.3828125 -0.1171875  0.        -0.6328125  0.375     -0.1640625\n",
      " -0.375      0.         0.1796875 -0.6875     0.0078125  0.       ]\n"
     ]
    }
   ],
   "source": [
    "weights_sgd_lp = util.lp_sgd_lr(0.00001, x, y, 1000000)\n",
    "print(weights_sgd_lp)\n",
    "print(weights_sgd_lp*(1/128.0))"
   ]
  },
  {
   "cell_type": "markdown",
   "metadata": {},
   "source": [
    "### LP SVRG:"
   ]
  },
  {
   "cell_type": "code",
   "execution_count": 17,
   "metadata": {},
   "outputs": [
    {
     "name": "stdout",
     "output_type": "stream",
     "text": [
      "[-46 -56  48  -2   0 -20 -54  69  52 -13   0 -78  74 -11 -58  -2  31 -88\n",
      "  -1  14]\n",
      "[-0.359375  -0.4375     0.375     -0.015625   0.        -0.15625   -0.421875\n",
      "  0.5390625  0.40625   -0.1015625  0.        -0.609375   0.578125\n",
      " -0.0859375 -0.453125  -0.015625   0.2421875 -0.6875    -0.0078125\n",
      "  0.109375 ]\n"
     ]
    }
   ],
   "source": [
    "weights_svrg_lp = util.lp_svrg_lr(0.00001, x, y, 100)\n",
    "print(weights_svrg_lp)\n",
    "print(weights_svrg_lp*(1/128.0))"
   ]
  },
  {
   "cell_type": "code",
   "execution_count": null,
   "metadata": {
    "collapsed": true
   },
   "outputs": [],
   "source": []
  }
 ],
 "metadata": {
  "kernelspec": {
   "display_name": "Python 2",
   "language": "python",
   "name": "python2"
  },
  "language_info": {
   "codemirror_mode": {
    "name": "ipython",
    "version": 2
   },
   "file_extension": ".py",
   "mimetype": "text/x-python",
   "name": "python",
   "nbconvert_exporter": "python",
   "pygments_lexer": "ipython2",
   "version": "2.7.13"
  }
 },
 "nbformat": 4,
 "nbformat_minor": 2
}
